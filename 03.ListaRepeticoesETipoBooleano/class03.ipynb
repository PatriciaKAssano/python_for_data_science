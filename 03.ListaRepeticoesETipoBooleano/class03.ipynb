{
 "cells": [
  {
   "cell_type": "markdown",
   "source": [
    "# LISTS"
   ],
   "metadata": {
    "collapsed": false
   }
  },
  {
   "cell_type": "code",
   "execution_count": 2,
   "outputs": [
    {
     "name": "stdout",
     "output_type": "stream",
     "text": [
      "27\n"
     ]
    },
    {
     "data": {
      "text/plain": "int"
     },
     "execution_count": 2,
     "metadata": {},
     "output_type": "execute_result"
    }
   ],
   "source": [
    "age = 27\n",
    "print(age)\n",
    "type(age)"
   ],
   "metadata": {
    "collapsed": false,
    "ExecuteTime": {
     "end_time": "2023-06-13T01:14:41.408190400Z",
     "start_time": "2023-06-13T01:14:41.404160Z"
    }
   }
  },
  {
   "cell_type": "code",
   "execution_count": 11,
   "outputs": [
    {
     "data": {
      "text/plain": "list"
     },
     "execution_count": 11,
     "metadata": {},
     "output_type": "execute_result"
    }
   ],
   "source": [
    "ages = [3, 5, 7, 12, 23, 27]\n",
    "# index 0  1  2  3   4   5\n",
    "#       0  -5  -4  -3  -2  -1\n",
    "type(ages)"
   ],
   "metadata": {
    "collapsed": false,
    "ExecuteTime": {
     "end_time": "2023-06-13T01:22:19.482228200Z",
     "start_time": "2023-06-13T01:22:19.474229500Z"
    }
   }
  },
  {
   "cell_type": "code",
   "execution_count": 4,
   "outputs": [
    {
     "data": {
      "text/plain": "23"
     },
     "execution_count": 4,
     "metadata": {},
     "output_type": "execute_result"
    }
   ],
   "source": [
    "ages[4]"
   ],
   "metadata": {
    "collapsed": false,
    "ExecuteTime": {
     "end_time": "2023-06-13T01:17:48.320164200Z",
     "start_time": "2023-06-13T01:17:48.316163700Z"
    }
   }
  },
  {
   "cell_type": "code",
   "execution_count": 5,
   "outputs": [
    {
     "data": {
      "text/plain": "[3, 5, 7]"
     },
     "execution_count": 5,
     "metadata": {},
     "output_type": "execute_result"
    }
   ],
   "source": [
    "ages[0:3]"
   ],
   "metadata": {
    "collapsed": false,
    "ExecuteTime": {
     "end_time": "2023-06-13T01:19:24.992934200Z",
     "start_time": "2023-06-13T01:19:24.987935400Z"
    }
   }
  },
  {
   "cell_type": "code",
   "execution_count": 6,
   "outputs": [
    {
     "data": {
      "text/plain": "[5, 7]"
     },
     "execution_count": 6,
     "metadata": {},
     "output_type": "execute_result"
    }
   ],
   "source": [
    "ages[1:3]"
   ],
   "metadata": {
    "collapsed": false,
    "ExecuteTime": {
     "end_time": "2023-06-13T01:20:23.457766300Z",
     "start_time": "2023-06-13T01:20:23.452770Z"
    }
   }
  },
  {
   "cell_type": "code",
   "execution_count": 7,
   "outputs": [
    {
     "data": {
      "text/plain": "[5, 7, 12, 23, 27]"
     },
     "execution_count": 7,
     "metadata": {},
     "output_type": "execute_result"
    }
   ],
   "source": [
    "ages[1:]"
   ],
   "metadata": {
    "collapsed": false,
    "ExecuteTime": {
     "end_time": "2023-06-13T01:21:20.337760400Z",
     "start_time": "2023-06-13T01:21:20.331758800Z"
    }
   }
  },
  {
   "cell_type": "code",
   "execution_count": 8,
   "outputs": [
    {
     "data": {
      "text/plain": "27"
     },
     "execution_count": 8,
     "metadata": {},
     "output_type": "execute_result"
    }
   ],
   "source": [
    "ages[-1]"
   ],
   "metadata": {
    "collapsed": false,
    "ExecuteTime": {
     "end_time": "2023-06-13T01:21:33.391454600Z",
     "start_time": "2023-06-13T01:21:33.385456400Z"
    }
   }
  },
  {
   "cell_type": "code",
   "execution_count": 9,
   "outputs": [
    {
     "data": {
      "text/plain": "23"
     },
     "execution_count": 9,
     "metadata": {},
     "output_type": "execute_result"
    }
   ],
   "source": [
    "ages[-2]"
   ],
   "metadata": {
    "collapsed": false,
    "ExecuteTime": {
     "end_time": "2023-06-13T01:21:51.432327300Z",
     "start_time": "2023-06-13T01:21:51.427326300Z"
    }
   }
  },
  {
   "cell_type": "code",
   "execution_count": 10,
   "outputs": [
    {
     "data": {
      "text/plain": "12"
     },
     "execution_count": 10,
     "metadata": {},
     "output_type": "execute_result"
    }
   ],
   "source": [
    "ages[-3]"
   ],
   "metadata": {
    "collapsed": false,
    "ExecuteTime": {
     "end_time": "2023-06-13T01:21:59.242799100Z",
     "start_time": "2023-06-13T01:21:59.237800800Z"
    }
   }
  },
  {
   "cell_type": "code",
   "execution_count": 12,
   "outputs": [
    {
     "data": {
      "text/plain": "5"
     },
     "execution_count": 12,
     "metadata": {},
     "output_type": "execute_result"
    }
   ],
   "source": [
    "ages[-5]"
   ],
   "metadata": {
    "collapsed": false,
    "ExecuteTime": {
     "end_time": "2023-06-13T01:23:30.022795500Z",
     "start_time": "2023-06-13T01:23:30.017794900Z"
    }
   }
  },
  {
   "cell_type": "code",
   "execution_count": 13,
   "outputs": [
    {
     "data": {
      "text/plain": "3"
     },
     "execution_count": 13,
     "metadata": {},
     "output_type": "execute_result"
    }
   ],
   "source": [
    "ages[0]"
   ],
   "metadata": {
    "collapsed": false,
    "ExecuteTime": {
     "end_time": "2023-06-13T01:23:42.600971500Z",
     "start_time": "2023-06-13T01:23:42.595970800Z"
    }
   }
  },
  {
   "cell_type": "code",
   "execution_count": 14,
   "outputs": [
    {
     "data": {
      "text/plain": "3"
     },
     "execution_count": 14,
     "metadata": {},
     "output_type": "execute_result"
    }
   ],
   "source": [
    "ages[-6]"
   ],
   "metadata": {
    "collapsed": false,
    "ExecuteTime": {
     "end_time": "2023-06-13T01:24:10.244208700Z",
     "start_time": "2023-06-13T01:24:10.239213100Z"
    }
   }
  },
  {
   "cell_type": "code",
   "execution_count": 15,
   "outputs": [
    {
     "ename": "IndexError",
     "evalue": "list index out of range",
     "output_type": "error",
     "traceback": [
      "\u001B[1;31m---------------------------------------------------------------------------\u001B[0m",
      "\u001B[1;31mIndexError\u001B[0m                                Traceback (most recent call last)",
      "Cell \u001B[1;32mIn[15], line 1\u001B[0m\n\u001B[1;32m----> 1\u001B[0m \u001B[43mages\u001B[49m\u001B[43m[\u001B[49m\u001B[38;5;241;43m-\u001B[39;49m\u001B[38;5;241;43m7\u001B[39;49m\u001B[43m]\u001B[49m\n",
      "\u001B[1;31mIndexError\u001B[0m: list index out of range"
     ]
    }
   ],
   "source": [
    "ages[-7]"
   ],
   "metadata": {
    "collapsed": false,
    "ExecuteTime": {
     "end_time": "2023-06-13T01:24:26.195497600Z",
     "start_time": "2023-06-13T01:24:25.809249200Z"
    }
   }
  },
  {
   "cell_type": "markdown",
   "source": [
    "# LOOPS"
   ],
   "metadata": {
    "collapsed": false
   }
  },
  {
   "cell_type": "markdown",
   "source": [
    "## FOR OUTSIDE THE FUNCTION"
   ],
   "metadata": {
    "collapsed": false
   }
  },
  {
   "cell_type": "code",
   "execution_count": 18,
   "outputs": [
    {
     "name": "stdout",
     "output_type": "stream",
     "text": [
      "Age: 3 | Can't ride\n",
      "Age: 5 | Can't ride\n",
      "Age: 7 | Can't ride\n",
      "Age: 12 | Can't ride\n",
      "Age: 23 | Can ride\n",
      "Age: 27 | Can ride\n"
     ]
    }
   ],
   "source": [
    "def verify_if_can_drive(age):\n",
    "    if age >= 18:\n",
    "        print(f\"Age: {age} | Can ride\")\n",
    "    else:\n",
    "        print(f\"Age: {age} | Can't ride\")\n",
    "for age in ages:\n",
    "    verify_if_can_drive(age)"
   ],
   "metadata": {
    "collapsed": false,
    "ExecuteTime": {
     "end_time": "2023-06-13T01:37:37.453721600Z",
     "start_time": "2023-06-13T01:37:37.448720600Z"
    }
   }
  },
  {
   "cell_type": "markdown",
   "source": [
    "## FOR WITHIN THE FUNCTION"
   ],
   "metadata": {
    "collapsed": false
   }
  },
  {
   "cell_type": "code",
   "execution_count": 19,
   "outputs": [
    {
     "name": "stdout",
     "output_type": "stream",
     "text": [
      "Age: 3 | Can't ride\n",
      "Age: 5 | Can't ride\n",
      "Age: 7 | Can't ride\n",
      "Age: 12 | Can't ride\n",
      "Age: 23 | Can ride\n",
      "Age: 27 | Can ride\n"
     ]
    }
   ],
   "source": [
    "def verify_if_can_drive(ages):\n",
    "    for age in ages:\n",
    "        if age >= 18:\n",
    "            print(f\"Age: {age} | Can ride\")\n",
    "        else:\n",
    "            print(f\"Age: {age} | Can't ride\")\n",
    "\n",
    "verify_if_can_drive(ages)"
   ],
   "metadata": {
    "collapsed": false,
    "ExecuteTime": {
     "end_time": "2023-06-13T01:40:08.792830700Z",
     "start_time": "2023-06-13T01:40:08.767830400Z"
    }
   }
  },
  {
   "cell_type": "markdown",
   "source": [
    "# BOOLEAN"
   ],
   "metadata": {
    "collapsed": false
   }
  },
  {
   "cell_type": "code",
   "execution_count": 20,
   "outputs": [
    {
     "data": {
      "text/plain": "True"
     },
     "execution_count": 20,
     "metadata": {},
     "output_type": "execute_result"
    }
   ],
   "source": [
    "age = 18\n",
    "age >= 18"
   ],
   "metadata": {
    "collapsed": false,
    "ExecuteTime": {
     "end_time": "2023-06-13T01:44:42.963628300Z",
     "start_time": "2023-06-13T01:44:42.957627Z"
    }
   }
  },
  {
   "cell_type": "code",
   "execution_count": 21,
   "outputs": [
    {
     "data": {
      "text/plain": "False"
     },
     "execution_count": 21,
     "metadata": {},
     "output_type": "execute_result"
    }
   ],
   "source": [
    "age = 18\n",
    "age < 18"
   ],
   "metadata": {
    "collapsed": false,
    "ExecuteTime": {
     "end_time": "2023-06-13T01:45:09.484683700Z",
     "start_time": "2023-06-13T01:45:09.478684700Z"
    }
   }
  },
  {
   "cell_type": "code",
   "execution_count": 29,
   "outputs": [],
   "source": [
    "permissions = []\n",
    "ages = [20, 14, 40]\n",
    "\n",
    "def verify_if_can_ride(ages, permissions):\n",
    "    for age in ages:\n",
    "        if age >= 18:\n",
    "            permissions.append(True)\n",
    "        else:\n",
    "            permissions.append(False)\n",
    "verify_if_can_ride(ages, permissions)"
   ],
   "metadata": {
    "collapsed": false,
    "ExecuteTime": {
     "end_time": "2023-06-13T01:52:39.695187200Z",
     "start_time": "2023-06-13T01:52:39.688117Z"
    }
   }
  },
  {
   "cell_type": "code",
   "execution_count": 30,
   "outputs": [
    {
     "data": {
      "text/plain": "[True, False, True]"
     },
     "execution_count": 30,
     "metadata": {},
     "output_type": "execute_result"
    }
   ],
   "source": [
    "permissions"
   ],
   "metadata": {
    "collapsed": false,
    "ExecuteTime": {
     "end_time": "2023-06-13T01:52:50.309225200Z",
     "start_time": "2023-06-13T01:52:50.301548300Z"
    }
   }
  },
  {
   "cell_type": "code",
   "execution_count": 31,
   "outputs": [
    {
     "name": "stdout",
     "output_type": "stream",
     "text": [
      "Can drive\n",
      "Can't drive\n",
      "Can drive\n"
     ]
    }
   ],
   "source": [
    "for permission in permissions:\n",
    "    if permission == True:\n",
    "        print(\"Can drive\")\n",
    "    else:\n",
    "        print(\"Can't drive\")"
   ],
   "metadata": {
    "collapsed": false,
    "ExecuteTime": {
     "end_time": "2023-06-13T01:57:30.974737500Z",
     "start_time": "2023-06-13T01:57:30.968740300Z"
    }
   }
  },
  {
   "cell_type": "code",
   "execution_count": null,
   "outputs": [],
   "source": [],
   "metadata": {
    "collapsed": false
   }
  }
 ],
 "metadata": {
  "kernelspec": {
   "display_name": "Python 3",
   "language": "python",
   "name": "python3"
  },
  "language_info": {
   "codemirror_mode": {
    "name": "ipython",
    "version": 2
   },
   "file_extension": ".py",
   "mimetype": "text/x-python",
   "name": "python",
   "nbconvert_exporter": "python",
   "pygments_lexer": "ipython2",
   "version": "2.7.6"
  }
 },
 "nbformat": 4,
 "nbformat_minor": 0
}
