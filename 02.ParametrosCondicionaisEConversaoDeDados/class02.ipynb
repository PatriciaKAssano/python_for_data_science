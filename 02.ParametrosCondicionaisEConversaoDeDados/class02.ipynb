{
 "cells": [
  {
   "cell_type": "markdown",
   "source": [
    "# FUNCTIONS"
   ],
   "metadata": {
    "collapsed": false
   }
  },
  {
   "cell_type": "code",
   "execution_count": 1,
   "outputs": [
    {
     "name": "stdout",
     "output_type": "stream",
     "text": [
      "Hello, Patricia\n"
     ]
    }
   ],
   "source": [
    "def printName():\n",
    "    name = input(\"Type your name: \")\n",
    "    print(f'Hello, {name}')\n",
    "\n",
    "printName()"
   ],
   "metadata": {
    "collapsed": false,
    "ExecuteTime": {
     "end_time": "2023-06-12T23:53:38.149377200Z",
     "start_time": "2023-06-12T23:53:28.658825200Z"
    }
   }
  },
  {
   "cell_type": "markdown",
   "source": [
    "## FUNCTION WITH PARAMETER"
   ],
   "metadata": {
    "collapsed": false
   }
  },
  {
   "cell_type": "code",
   "execution_count": 1,
   "outputs": [
    {
     "name": "stdout",
     "output_type": "stream",
     "text": [
      "Hello, Patricia\n"
     ]
    }
   ],
   "source": [
    "def greeting(name):\n",
    "    print(f'Hello, {name}')\n",
    "\n",
    "greeting('Patricia')"
   ],
   "metadata": {
    "collapsed": false,
    "ExecuteTime": {
     "end_time": "2023-06-13T00:54:01.044906700Z",
     "start_time": "2023-06-13T00:54:01.036908400Z"
    }
   }
  },
  {
   "cell_type": "markdown",
   "source": [
    "# CONDITIONALS"
   ],
   "metadata": {
    "collapsed": false
   }
  },
  {
   "cell_type": "code",
   "execution_count": 2,
   "outputs": [
    {
     "name": "stdout",
     "output_type": "stream",
     "text": [
      "Don't have permission to drive\n"
     ]
    }
   ],
   "source": [
    "age = 10\n",
    "def can_drive(age):\n",
    "    if age >= 18:\n",
    "        print(\"Have permission to drive\")\n",
    "    else:\n",
    "        print(\"Don't have permission to drive\")\n",
    "\n",
    "can_drive(age)"
   ],
   "metadata": {
    "collapsed": false,
    "ExecuteTime": {
     "end_time": "2023-06-13T00:54:51.323655100Z",
     "start_time": "2023-06-13T00:54:51.302651300Z"
    }
   }
  },
  {
   "cell_type": "markdown",
   "source": [
    "# TYPE CONVERSION"
   ],
   "metadata": {
    "collapsed": false
   }
  },
  {
   "cell_type": "code",
   "execution_count": 3,
   "outputs": [
    {
     "name": "stdout",
     "output_type": "stream",
     "text": [
      "Have permission to drive\n"
     ]
    }
   ],
   "source": [
    "def can_drive_without_parameters():\n",
    "    age = int(input(\"Type your age: \"))\n",
    "\n",
    "    if age >= 18:\n",
    "        print(\"Have permission to drive\")\n",
    "    else:\n",
    "        print(\"Don't have permission to drive\")\n",
    "can_drive_without_parameters()"
   ],
   "metadata": {
    "collapsed": false,
    "ExecuteTime": {
     "end_time": "2023-06-13T00:55:24.497164200Z",
     "start_time": "2023-06-13T00:55:20.667076Z"
    }
   }
  },
  {
   "cell_type": "markdown",
   "source": [
    "# EXERCISES"
   ],
   "metadata": {
    "collapsed": false
   }
  },
  {
   "cell_type": "markdown",
   "source": [
    "Uma pessoa vai até a padaria todos os dias. A distância de sua casa até o estabelecimento é de 100 metros e todo percurso é feito em 20 segundos.\n",
    "Para calcular a velocidade média e descobrir a razão do espaço pelo tempo, podemos dividir o espaço percorrido pelo tempo.\n",
    "Sabendo disso, a pessoa deseja criar uma função chamada velocidade, que recebe 2 parâmetros chamados espaco e tempo, realizar o cálculo e exibir uma saída semelhante ao exemplo abaixo:\n",
    "Velocidade: 5 m/s"
   ],
   "metadata": {
    "collapsed": false
   }
  },
  {
   "cell_type": "code",
   "execution_count": 4,
   "outputs": [
    {
     "name": "stdout",
     "output_type": "stream",
     "text": [
      "A velocidade média é de: 5.0 m/s\n"
     ]
    }
   ],
   "source": [
    "def calc_speed(distance, time):\n",
    "    average_speed = distance/time\n",
    "    print(f\"A velocidade média é de: {average_speed} m/s\")\n",
    "\n",
    "calc_speed(100,20)"
   ],
   "metadata": {
    "collapsed": false,
    "ExecuteTime": {
     "end_time": "2023-06-13T00:56:10.188316700Z",
     "start_time": "2023-06-13T00:56:10.171311100Z"
    }
   }
  },
  {
   "cell_type": "markdown",
   "source": [
    "Uma pessoa criou a seguinte função para descobrir quantos anos faltam para tirar habilitação, caso não tenha a idade permitida. Caso tenha, uma mensagem informa que pode tirar habilitação:"
   ],
   "metadata": {
    "collapsed": false
   }
  },
  {
   "cell_type": "code",
   "execution_count": 5,
   "outputs": [
    {
     "ename": "TypeError",
     "evalue": "'>=' not supported between instances of 'str' and 'int'",
     "output_type": "error",
     "traceback": [
      "\u001B[1;31m---------------------------------------------------------------------------\u001B[0m",
      "\u001B[1;31mTypeError\u001B[0m                                 Traceback (most recent call last)",
      "Cell \u001B[1;32mIn[5], line 9\u001B[0m\n\u001B[0;32m      6\u001B[0m    tempo \u001B[38;5;241m=\u001B[39m \u001B[38;5;241m18\u001B[39m \u001B[38;5;241m-\u001B[39m idade\n\u001B[0;32m      7\u001B[0m    \u001B[38;5;28mprint\u001B[39m(\u001B[38;5;124mf\u001B[39m\u001B[38;5;124m'\u001B[39m\u001B[38;5;124mCalma... espere \u001B[39m\u001B[38;5;132;01m{\u001B[39;00mtempo\u001B[38;5;132;01m}\u001B[39;00m\u001B[38;5;124m ano(s) para tirar habilitação\u001B[39m\u001B[38;5;124m'\u001B[39m)\n\u001B[1;32m----> 9\u001B[0m \u001B[43mhabilitacao\u001B[49m\u001B[43m(\u001B[49m\u001B[43m)\u001B[49m\n",
      "Cell \u001B[1;32mIn[5], line 3\u001B[0m, in \u001B[0;36mhabilitacao\u001B[1;34m()\u001B[0m\n\u001B[0;32m      1\u001B[0m \u001B[38;5;28;01mdef\u001B[39;00m \u001B[38;5;21mhabilitacao\u001B[39m():\n\u001B[0;32m      2\u001B[0m  idade \u001B[38;5;241m=\u001B[39m \u001B[38;5;28minput\u001B[39m(\u001B[38;5;124m'\u001B[39m\u001B[38;5;124mQual sua idade? \u001B[39m\u001B[38;5;124m'\u001B[39m)\n\u001B[1;32m----> 3\u001B[0m  \u001B[38;5;28;01mif\u001B[39;00m \u001B[43midade\u001B[49m\u001B[43m \u001B[49m\u001B[38;5;241;43m>\u001B[39;49m\u001B[38;5;241;43m=\u001B[39;49m\u001B[43m \u001B[49m\u001B[38;5;241;43m18\u001B[39;49m:\n\u001B[0;32m      4\u001B[0m    \u001B[38;5;28mprint\u001B[39m(\u001B[38;5;124m'\u001B[39m\u001B[38;5;124mPode tirar habilitação\u001B[39m\u001B[38;5;124m'\u001B[39m)\n\u001B[0;32m      5\u001B[0m  \u001B[38;5;28;01melse\u001B[39;00m:\n",
      "\u001B[1;31mTypeError\u001B[0m: '>=' not supported between instances of 'str' and 'int'"
     ]
    }
   ],
   "source": [
    "def habilitacao():\n",
    " idade = input('Qual sua idade? ')\n",
    " if idade >= 18:\n",
    "   print('Pode tirar habilitação')\n",
    " else:\n",
    "   tempo = 18 - idade\n",
    "   print(f'Calma... espere {tempo} ano(s) para tirar habilitação')\n",
    "\n",
    "habilitacao()"
   ],
   "metadata": {
    "collapsed": false,
    "ExecuteTime": {
     "end_time": "2023-06-13T00:56:35.292617900Z",
     "start_time": "2023-06-13T00:56:31.637232Z"
    }
   }
  },
  {
   "cell_type": "markdown",
   "source": [
    "Porém, ao executar a função recebe a seguinte mensagem de erro:"
   ],
   "metadata": {
    "collapsed": false
   }
  },
  {
   "cell_type": "code",
   "execution_count": 6,
   "outputs": [
    {
     "ename": "SyntaxError",
     "evalue": "invalid syntax (3787899991.py, line 1)",
     "output_type": "error",
     "traceback": [
      "\u001B[1;36m  Cell \u001B[1;32mIn[6], line 1\u001B[1;36m\u001B[0m\n\u001B[1;33m    TypeError: '>=' not supported between instances of 'str' and 'int'\u001B[0m\n\u001B[1;37m                        ^\u001B[0m\n\u001B[1;31mSyntaxError\u001B[0m\u001B[1;31m:\u001B[0m invalid syntax\n"
     ]
    }
   ],
   "source": [
    "TypeError: '>=' not supported between instances of 'str' and 'int'"
   ],
   "metadata": {
    "collapsed": false,
    "ExecuteTime": {
     "end_time": "2023-06-13T00:56:56.354540Z",
     "start_time": "2023-06-13T00:56:56.348541900Z"
    }
   }
  },
  {
   "cell_type": "markdown",
   "source": [
    "Sabendo disso, analise as afirmações abaixo e marque aquelas que podem ajudar esta pessoa:"
   ],
   "metadata": {
    "collapsed": false
   }
  },
  {
   "cell_type": "code",
   "execution_count": 7,
   "outputs": [
    {
     "name": "stdout",
     "output_type": "stream",
     "text": [
      "Pode tirar habilitação\n"
     ]
    }
   ],
   "source": [
    "def habilitacao():\n",
    " idade = int(input('Qual sua idade? '))\n",
    " if idade >= 18:\n",
    "   print('Pode tirar habilitação')\n",
    " else:\n",
    "   tempo = 18 - idade\n",
    "   print(f'Calma... espere {tempo} ano(s) para tirar habilitação')\n",
    "\n",
    "habilitacao()"
   ],
   "metadata": {
    "collapsed": false,
    "ExecuteTime": {
     "end_time": "2023-06-13T00:57:24.002499300Z",
     "start_time": "2023-06-13T00:57:21.934945600Z"
    }
   }
  },
  {
   "cell_type": "markdown",
   "source": [
    "# PYTHON OPERATORS"
   ],
   "metadata": {
    "collapsed": false
   }
  },
  {
   "cell_type": "markdown",
   "source": [
    "| OPERATOR | DESCRIPTION          |\n",
    "|----------|----------------------|\n",
    "| a == b   | a equals b           |\n",
    "| a != b   | a different from b   |\n",
    "| a < b    | a less than b        |\n",
    "| a > b    | a greater than b     |\n",
    "| a <= b   | a less or equal b    |\n",
    "| a >= b   | a greater or equal b |"
   ],
   "metadata": {
    "collapsed": false
   }
  },
  {
   "cell_type": "code",
   "execution_count": null,
   "outputs": [],
   "source": [],
   "metadata": {
    "collapsed": false
   }
  }
 ],
 "metadata": {
  "kernelspec": {
   "display_name": "Python 3",
   "language": "python",
   "name": "python3"
  },
  "language_info": {
   "codemirror_mode": {
    "name": "ipython",
    "version": 2
   },
   "file_extension": ".py",
   "mimetype": "text/x-python",
   "name": "python",
   "nbconvert_exporter": "python",
   "pygments_lexer": "ipython2",
   "version": "2.7.6"
  }
 },
 "nbformat": 4,
 "nbformat_minor": 0
}
