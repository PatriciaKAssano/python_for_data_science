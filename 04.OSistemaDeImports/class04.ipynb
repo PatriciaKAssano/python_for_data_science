{
 "cells": [
  {
   "cell_type": "markdown",
   "source": [
    "# TYPES IN A LIST"
   ],
   "metadata": {
    "collapsed": false
   }
  },
  {
   "cell_type": "code",
   "execution_count": 2,
   "outputs": [
    {
     "name": "stdout",
     "output_type": "stream",
     "text": [
      "The element Patricia is of the type <class 'str'>\n",
      "The element 23 is of the type <class 'int'>\n",
      "The element True is of the type <class 'bool'>\n",
      "The element 26 is of the type <class 'str'>\n"
     ]
    }
   ],
   "source": [
    "list = [\"Patricia\", 23, True, \"26\"]\n",
    "for el in list:\n",
    "    print(f\"The element {el} is of the type { type(el)}\")"
   ],
   "metadata": {
    "collapsed": false,
    "ExecuteTime": {
     "end_time": "2023-06-13T02:14:14.125429800Z",
     "start_time": "2023-06-13T02:14:14.118431400Z"
    }
   }
  },
  {
   "cell_type": "markdown",
   "source": [
    "# IMPORT"
   ],
   "metadata": {
    "collapsed": false
   }
  },
  {
   "cell_type": "code",
   "execution_count": 8,
   "outputs": [],
   "source": [
    "from random import randrange, seed"
   ],
   "metadata": {
    "collapsed": false,
    "ExecuteTime": {
     "end_time": "2023-06-13T02:27:40.268812Z",
     "start_time": "2023-06-13T02:27:40.264047700Z"
    }
   }
  },
  {
   "cell_type": "code",
   "execution_count": 50,
   "outputs": [],
   "source": [
    "seed(7)"
   ],
   "metadata": {
    "collapsed": false,
    "ExecuteTime": {
     "end_time": "2023-06-13T02:28:34.202594900Z",
     "start_time": "2023-06-13T02:28:34.198602800Z"
    }
   }
  },
  {
   "cell_type": "code",
   "execution_count": 51,
   "outputs": [
    {
     "data": {
      "text/plain": "5"
     },
     "execution_count": 51,
     "metadata": {},
     "output_type": "execute_result"
    }
   ],
   "source": [
    "randrange(0, 11)"
   ],
   "metadata": {
    "collapsed": false,
    "ExecuteTime": {
     "end_time": "2023-06-13T02:28:36.114922900Z",
     "start_time": "2023-06-13T02:28:36.110836800Z"
    }
   }
  },
  {
   "cell_type": "code",
   "execution_count": 5,
   "outputs": [
    {
     "data": {
      "text/plain": "[8, 1, 8, 8, 4, 1, 10, 9]"
     },
     "execution_count": 5,
     "metadata": {},
     "output_type": "execute_result"
    }
   ],
   "source": [
    "math_grades = []\n",
    "for grades in range(8):\n",
    "    math_grades.append(randrange(0, 11))\n",
    "math_grades"
   ],
   "metadata": {
    "collapsed": false,
    "ExecuteTime": {
     "end_time": "2023-06-13T02:24:13.082224600Z",
     "start_time": "2023-06-13T02:24:13.078225500Z"
    }
   }
  },
  {
   "cell_type": "code",
   "execution_count": 6,
   "outputs": [
    {
     "data": {
      "text/plain": "8"
     },
     "execution_count": 6,
     "metadata": {},
     "output_type": "execute_result"
    }
   ],
   "source": [
    "len(math_grades)"
   ],
   "metadata": {
    "collapsed": false,
    "ExecuteTime": {
     "end_time": "2023-06-13T02:24:41.093702200Z",
     "start_time": "2023-06-13T02:24:41.087699100Z"
    }
   }
  }
 ],
 "metadata": {
  "kernelspec": {
   "display_name": "Python 3",
   "language": "python",
   "name": "python3"
  },
  "language_info": {
   "codemirror_mode": {
    "name": "ipython",
    "version": 2
   },
   "file_extension": ".py",
   "mimetype": "text/x-python",
   "name": "python",
   "nbconvert_exporter": "python",
   "pygments_lexer": "ipython2",
   "version": "2.7.6"
  }
 },
 "nbformat": 4,
 "nbformat_minor": 0
}
