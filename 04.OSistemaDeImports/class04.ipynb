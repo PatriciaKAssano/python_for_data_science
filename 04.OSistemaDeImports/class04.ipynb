{
 "cells": [
  {
   "cell_type": "markdown",
   "source": [
    "# TYPES IN A LIST"
   ],
   "metadata": {
    "collapsed": false
   }
  },
  {
   "cell_type": "code",
   "execution_count": 2,
   "outputs": [
    {
     "name": "stdout",
     "output_type": "stream",
     "text": [
      "The element Patricia is of the type <class 'str'>\n",
      "The element 23 is of the type <class 'int'>\n",
      "The element True is of the type <class 'bool'>\n",
      "The element 26 is of the type <class 'str'>\n"
     ]
    }
   ],
   "source": [
    "list = [\"Patricia\", 23, True, \"26\"]\n",
    "for el in list:\n",
    "    print(f\"The element {el} is of the type { type(el)}\")"
   ],
   "metadata": {
    "collapsed": false,
    "ExecuteTime": {
     "end_time": "2023-06-13T02:14:14.125429800Z",
     "start_time": "2023-06-13T02:14:14.118431400Z"
    }
   }
  },
  {
   "cell_type": "code",
   "execution_count": null,
   "outputs": [],
   "source": [],
   "metadata": {
    "collapsed": false
   }
  }
 ],
 "metadata": {
  "kernelspec": {
   "display_name": "Python 3",
   "language": "python",
   "name": "python3"
  },
  "language_info": {
   "codemirror_mode": {
    "name": "ipython",
    "version": 2
   },
   "file_extension": ".py",
   "mimetype": "text/x-python",
   "name": "python",
   "nbconvert_exporter": "python",
   "pygments_lexer": "ipython2",
   "version": "2.7.6"
  }
 },
 "nbformat": 4,
 "nbformat_minor": 0
}
